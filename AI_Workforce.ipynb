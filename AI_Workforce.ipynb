{
 "cells": [
  {
   "cell_type": "markdown",
   "id": "3010a993",
   "metadata": {},
   "source": [
    "Workforce Framework for AI\n",
    "\n",
    "ref: NIST 800-181 as a basis for new Framework\n",
    "https://csrc.nist.gov/publications/detail/sp/800-181/rev-1/final\n",
    "    "
   ]
  }
 ],
 "metadata": {
  "kernelspec": {
   "display_name": "Python 3 (ipykernel)",
   "language": "python",
   "name": "python3"
  },
  "language_info": {
   "codemirror_mode": {
    "name": "ipython",
    "version": 3
   },
   "file_extension": ".py",
   "mimetype": "text/x-python",
   "name": "python",
   "nbconvert_exporter": "python",
   "pygments_lexer": "ipython3",
   "version": "3.9.7"
  }
 },
 "nbformat": 4,
 "nbformat_minor": 5
}
